{
 "cells": [
  {
   "cell_type": "code",
   "execution_count": 1,
   "id": "ec6acc99",
   "metadata": {},
   "outputs": [
    {
     "name": "stdout",
     "output_type": "stream",
     "text": [
      "Collecting reportlab\n",
      "  Downloading reportlab-4.0.4-py3-none-any.whl (1.9 MB)\n",
      "\u001b[K     |████████████████████████████████| 1.9 MB 1.6 MB/s eta 0:00:01\n",
      "\u001b[?25hRequirement already satisfied: pillow>=9.0.0 in ./opt/anaconda3/lib/python3.9/site-packages (from reportlab) (9.0.1)\n",
      "Installing collected packages: reportlab\n",
      "Successfully installed reportlab-4.0.4\n"
     ]
    }
   ],
   "source": [
    "!pip install reportlab"
   ]
  },
  {
   "cell_type": "code",
   "execution_count": 7,
   "id": "d40e4288",
   "metadata": {},
   "outputs": [
    {
     "name": "stdout",
     "output_type": "stream",
     "text": [
      "The custom document has been saved as 'custom_document.pdf'.\n"
     ]
    }
   ],
   "source": [
    "from reportlab.lib.pagesizes import letter\n",
    "from reportlab.platypus import SimpleDocTemplate, Paragraph, Spacer\n",
    "from reportlab.lib.styles import getSampleStyleSheet\n",
    "\n",
    "# Step 1: Create a new PDF document\n",
    "def create_custom_document(file_name):\n",
    "    doc = SimpleDocTemplate(file_name, pagesize=letter)\n",
    "    styles = getSampleStyleSheet()\n",
    "    content = []\n",
    "\n",
    "    # Step 2: Add content to the document\n",
    "    # Adding a title\n",
    "    title = Paragraph(\"[EXAM TITLE]-[DATE]\", styles['Title'])\n",
    "    content.append(title)\n",
    "    title = Paragraph(\"SEMESTER-[N]:INTEGRATED M.Sc. PROGRAMME IN COMPUTER SCIENCE-DATA SCIENCE\", styles['Title'])\n",
    "    content.append(title)\n",
    "    title = Paragraph(\"COURSE-[COURSE NUMBER]:[COURSE NAME]\\n\", styles['Title'])\n",
    "    content.append(title)\n",
    "\n",
    "    # Adding a heading\n",
    "    heading = Paragraph(\"Time: [time]\", styles['Heading1'])\n",
    "    content.append(heading)\n",
    "\n",
    "    # Adding paragraphs\n",
    "    intro_paragraph = Paragraph(\"This is the introduction of the document.\", styles['Normal'])\n",
    "    content.append(intro_paragraph)\n",
    "\n",
    "    # Adding another heading\n",
    "    heading = Paragraph(\"Section 2: Main Content\", styles['Heading1'])\n",
    "    content.append(heading)\n",
    "\n",
    "    # Adding more paragraphs\n",
    "    main_content_paragraph = Paragraph(\"This is the main content of the document.\", styles['Normal'])\n",
    "    content.append(main_content_paragraph)\n",
    "\n",
    "    # Adding an image\n",
    "    \n",
    "\n",
    "    # Step 3: Build the PDF document\n",
    "    doc.build(content)\n",
    "\n",
    "# Step 4: Call the function to create the PDF\n",
    "create_custom_document(\"custom_document.pdf\")\n",
    "\n",
    "print(\"The custom document has been saved as 'custom_document.pdf'.\")\n"
   ]
  },
  {
   "cell_type": "code",
   "execution_count": null,
   "id": "02f0962f",
   "metadata": {},
   "outputs": [],
   "source": []
  }
 ],
 "metadata": {
  "kernelspec": {
   "display_name": "Python 3 (ipykernel)",
   "language": "python",
   "name": "python3"
  },
  "language_info": {
   "codemirror_mode": {
    "name": "ipython",
    "version": 3
   },
   "file_extension": ".py",
   "mimetype": "text/x-python",
   "name": "python",
   "nbconvert_exporter": "python",
   "pygments_lexer": "ipython3",
   "version": "3.9.12"
  }
 },
 "nbformat": 4,
 "nbformat_minor": 5
}
